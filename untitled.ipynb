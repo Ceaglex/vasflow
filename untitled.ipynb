{
 "cells": [
  {
   "cell_type": "code",
   "execution_count": null,
   "id": "caae1b11",
   "metadata": {},
   "outputs": [
    {
     "name": "stderr",
     "output_type": "stream",
     "text": [
      "100%|██████████| 15264/15264 [00:43<00:00, 349.88it/s]\n"
     ]
    },
    {
     "data": {
      "text/plain": [
       "15264"
      ]
     },
     "execution_count": 2,
     "metadata": {},
     "output_type": "execute_result"
    },
    {
     "ename": "",
     "evalue": "",
     "output_type": "error",
     "traceback": [
      "\u001b[1;31mThe Kernel crashed while executing code in the current cell or a previous cell. \n",
      "\u001b[1;31mPlease review the code in the cell(s) to identify a possible cause of the failure. \n",
      "\u001b[1;31mClick <a href='https://aka.ms/vscodeJupyterKernelCrash'>here</a> for more info. \n",
      "\u001b[1;31mView Jupyter <a href='command:jupyter.viewOutput'>log</a> for further details."
     ]
    }
   ],
   "source": [
    "import shutil\n",
    "from tqdm import tqdm\n",
    "from glob import glob\n",
    "\n",
    "model = 'vasflow'\n",
    "group = '10'\n",
    "epoch = '0159'\n",
    "\n",
    "# # files = glob(f\"./log/2025_05_09-*/val/video/epoch_{epoch}*/audio_*_00.wav\")\n",
    "files = glob(f\"/home/chengxin/chengxin/vasflow/log/2025_05_13-11_*-vaflow_sda_dit_noise_text_mel_10l_cc_scratch/val/video/epoch_{epoch}*/audio_*_00.wav\")\n",
    "\n",
    "for audio_file in tqdm(files):\n",
    "    name = audio_file.split('/')[-1][6:-7]\n",
    "    target_file = f\"/home/chengxin/chengxin/Dataset_Sound/VGGSound/generated_audios/{model}/{group}/{name}.wav\"\n",
    "    shutil.copy(audio_file, target_file)\n",
    "\n",
    "len(files)"
   ]
  },
  {
   "cell_type": "markdown",
   "id": "4bd50575",
   "metadata": {},
   "source": [
    "# SPEECH"
   ]
  },
  {
   "cell_type": "code",
   "execution_count": null,
   "id": "a86398b2",
   "metadata": {},
   "outputs": [
    {
     "name": "stderr",
     "output_type": "stream",
     "text": [
      "100%|██████████| 4711/4711 [00:00<00:00, 1069345.50it/s]\n"
     ]
    },
    {
     "data": {
      "text/plain": [
       "(523, 3291, 200, 697)"
      ]
     },
     "execution_count": 18,
     "metadata": {},
     "output_type": "execute_result"
    }
   ],
   "source": [
    "import shutil\n",
    "from tqdm import tqdm\n",
    "from glob import glob\n",
    "import re\n",
    "\n",
    "model = 'vasflow'\n",
    "group = '10'\n",
    "# epoch = '0149'\n",
    "# files = glob(\"/home/chengxin/chengxin/vasflow/log/2025_05_07-13_*/predict/video/audio_*_00.wav\")\n",
    "files = glob(f\"/home/chengxin/chengxin/vasflow/log/2025_05_13-11_*-vaflow_sda_dit_noise_text_mel_10l_cc_scratch/val/video/epoch_{epoch}*/speech_*_00.wav\")\n",
    "# files = glob(f\"/home/chengxin/chengxin/vasflow/log/2025_05_13-11_*-vaflow_sda_dit_noise_text_mel_10l_cc_scratch/val/video/epoch_{epoch}*/speech_*_00.wav\")\n",
    "\n",
    "ljfiles = []\n",
    "gridfiles = []\n",
    "chemfiles = []\n",
    "lrsfiles = []\n",
    "for audio_file in tqdm(files):\n",
    "    name = audio_file.split('/')[-1][7:-7]\n",
    "    if name.startswith('LJ00'):\n",
    "        ljfiles.append(audio_file)\n",
    "    elif bool(re.match(r'^s(?:0[0-9]|[12][0-9]|3[0-5])', name)):\n",
    "        gridfiles.append(audio_file)\n",
    "    elif name.startswith('chem'):\n",
    "        chemfiles.append(audio_file)\n",
    "    else:\n",
    "        lrsfiles.append(audio_file)\n",
    "    # target_file = f\"/home/chengxin/chengxin/Dataset_Sound/VGGSound/generated_audios/{model}/{group}/{name}.wav\"\n",
    "    # shutil.copy(audio_file, target_file)\n",
    "\n",
    "len(ljfiles), len(gridfiles), len(chemfiles), len(lrsfiles)"
   ]
  },
  {
   "cell_type": "markdown",
   "id": "21d62350",
   "metadata": {},
   "source": [
    "# 1. wav.scp"
   ]
  },
  {
   "cell_type": "code",
   "execution_count": 19,
   "id": "33334a10",
   "metadata": {},
   "outputs": [
    {
     "name": "stdout",
     "output_type": "stream",
     "text": [
      "Successfully written 200 entries to /home/chengxin/chengxin/Dataset_Sound/Chem/results/vasflow/wer/wav.scp\n"
     ]
    }
   ],
   "source": [
    "meta_file_dir = \"/home/chengxin/chengxin/Dataset_Sound/Chem\"\n",
    "gen_file_paths = chemfiles\n",
    "output_scp_path = f\"{meta_file_dir}/results/{model}/wer/wav.scp\"\n",
    "\n",
    "\n",
    "with open(output_scp_path, \"w\") as scp_file:\n",
    "    for file_path in gen_file_paths:\n",
    "        file_name = file_path.split(\"/\")[-1]\n",
    "        file_id = '_'.join(file_name.split(\"_\")[1:-1])\n",
    "        sample_id = int(file_name.split(\"_\")[-1][:-4])\n",
    "\n",
    "        name = f\"visual_tts_{file_id}_sample{sample_id}\"\n",
    "        gen_path = file_path\n",
    "        scp_file.write(f\"{name} {gen_path}\\n\")\n",
    "\n",
    "print(f\"Successfully written {len(gen_file_paths)} entries to {output_scp_path}\")"
   ]
  },
  {
   "cell_type": "markdown",
   "id": "92a1caed",
   "metadata": {},
   "source": [
    "# 2. utt2spk"
   ]
  },
  {
   "cell_type": "code",
   "execution_count": 20,
   "id": "05a80f3f",
   "metadata": {},
   "outputs": [
    {
     "name": "stdout",
     "output_type": "stream",
     "text": [
      "Successfully written 200 entries to /home/chengxin/chengxin/Dataset_Sound/Chem/results/vasflow/wer/utt2spk\n"
     ]
    }
   ],
   "source": [
    "output_utt_path = f\"{meta_file_dir}/results/{model}/wer/utt2spk\"\n",
    "\n",
    "\n",
    "with open(output_utt_path, \"w\") as utt_file:\n",
    "    for file_path in gen_file_paths:\n",
    "        file_name = file_path.split(\"/\")[-1]\n",
    "        file_id = '_'.join(file_name.split(\"_\")[1:-1])\n",
    "        sample_id = int(file_name.split(\"_\")[-1][:-4])\n",
    "        spk_id = '_'.join(file_id.split(\"_\")[:-1])\n",
    "\n",
    "\n",
    "        name = f\"{file_id}\"\n",
    "        gt_path = f\"{meta_file_dir}/speakers/{file_id}.wav\" # LJSpeech\n",
    "        gt_path = f\"{meta_file_dir}/speakers/{spk_id}/{file_id}.wav\"  # GRID LRS CHEM\n",
    "        utt_file.write(f\"{name} {gt_path}\\n\")\n",
    "\n",
    "print(f\"Successfully written {len(gen_file_paths)} entries to {output_utt_path}\")"
   ]
  },
  {
   "cell_type": "markdown",
   "id": "faccb0c3",
   "metadata": {},
   "source": [
    "# 3. Text"
   ]
  },
  {
   "cell_type": "code",
   "execution_count": 21,
   "id": "c432253d",
   "metadata": {},
   "outputs": [
    {
     "name": "stdout",
     "output_type": "stream",
     "text": [
      "Successfully written 200 entries to /home/chengxin/chengxin/Dataset_Sound/Chem/results/vasflow/wer/text\n"
     ]
    }
   ],
   "source": [
    "output_utt_path = f\"{meta_file_dir}/results/{model}/wer/text\"\n",
    "\n",
    "\n",
    "with open(output_utt_path, \"w\") as txt_file:\n",
    "    for file_path in gen_file_paths:\n",
    "        file_name = file_path.split(\"/\")[-1]\n",
    "        file_id = '_'.join(file_name.split(\"_\")[1:-1])\n",
    "        sample_id = int(file_name.split(\"_\")[-1][:-4])\n",
    "        spk_id = '_'.join(file_id.split(\"_\")[:-1])\n",
    "        \n",
    "\n",
    "        name = f\"{file_id}\"\n",
    "        gt_transcript_path = f\"{meta_file_dir}/speakers/{file_id}.lab\" # LJSpeech\n",
    "        gt_transcript_path = f\"{meta_file_dir}/speakers/{spk_id}/{file_id}.lab\" # GRID LRS CHEM\n",
    "        with open(gt_transcript_path, \"r\") as lab_file:\n",
    "            gt_transcript = lab_file.read().strip()\n",
    "        txt_file.write(f\"{name} {gt_transcript}\\n\")\n",
    "\n",
    "print(f\"Successfully written {len(gen_file_paths)} entries to {output_utt_path}\")"
   ]
  },
  {
   "cell_type": "markdown",
   "id": "02f5dd5c",
   "metadata": {},
   "source": [
    "# key_file"
   ]
  },
  {
   "cell_type": "code",
   "execution_count": 22,
   "id": "06835483",
   "metadata": {},
   "outputs": [
    {
     "name": "stdout",
     "output_type": "stream",
     "text": [
      "Successfully written 200 entries to /home/chengxin/chengxin/Dataset_Sound/Chem/results/vasflow/wer/key_file\n"
     ]
    }
   ],
   "source": [
    "output_utt_path = f\"{meta_file_dir}/results/{model}/wer/key_file\"\n",
    "\n",
    "\n",
    "with open(output_utt_path, \"w\") as key_file:\n",
    "    for file_path in gen_file_paths:\n",
    "        file_name = file_path.split(\"/\")[-1]\n",
    "        file_id = '_'.join(file_name.split(\"_\")[1:-1])\n",
    "        sample_id = int(file_name.split(\"_\")[-1][:-4])\n",
    "        \n",
    "        name = f\"visual_tts_{file_id}\"\n",
    "        key_file.write(f\"{name}\\n\")\n",
    "\n",
    "print(f\"Successfully written {len(gen_file_paths)} entries to {output_utt_path}\")"
   ]
  },
  {
   "cell_type": "code",
   "execution_count": null,
   "id": "48695190",
   "metadata": {},
   "outputs": [],
   "source": [
    "import shutil\n",
    "from tqdm import tqdm\n",
    "from glob import glob\n",
    "import os\n",
    "import subprocess\n",
    "\n",
    "import subprocess\n",
    "from moviepy.editor import VideoFileClip, AudioFileClip\n",
    "\n",
    "def replace_audio_in_video(video_path, audio_path, output_path):\n",
    "    # cmd = [\n",
    "    #     'ffmpeg',\n",
    "    #     '-i', video_path,           # 输入视频文件\n",
    "    #     '-i', audio_path,          # 输入音频文件\n",
    "    #     '-c:v', 'copy',            # 直接复制视频流\n",
    "    #     '-c:a', 'aac',             # 编码音频为AAC\n",
    "    #     '-map', '0:v:0',           # 选择视频流的第0个视频轨道\n",
    "    #     '-map', '1:a:0',           # 选择音频流的第0个音频轨道\n",
    "    #     '-shortest',               # 以最短的流长度为准\n",
    "    #     output_path\n",
    "    # ]\n",
    "            \n",
    "    # subprocess.run(cmd, check=True, capture_output=True)\n",
    "    # print(f\"已处理: {output_path}\")\n",
    "\n",
    "\n",
    "    try:\n",
    "        video = VideoFileClip(video_path)\n",
    "        audio = AudioFileClip(audio_path)\n",
    "        \n",
    "        # 如果音频时长比视频长，截断音频以匹配视频时长（类似 FFmpeg 的 -shortest）\n",
    "        if audio.duration > video.duration:\n",
    "            audio = audio.subclip(0, video.duration)\n",
    "        video_with_new_audio = video.set_audio(audio)\n",
    "        \n",
    "        video_with_new_audio.write_videofile(\n",
    "            output_path,\n",
    "            codec=\"libx264\",  # 视频编码\n",
    "            audio_codec=\"aac\",  # 音频编码\n",
    "            temp_audiofile=\"temp-audio.m4a\",\n",
    "            remove_temp=True,\n",
    "            verbose=False\n",
    "        )\n",
    "        \n",
    "        video.close()\n",
    "        audio.close()\n",
    "        video_with_new_audio.close()\n",
    "        # print(f\"已处理: {output_path}\")\n",
    "\n",
    "    except Exception as e:\n",
    "        print(f\"处理失败: {output_path}, 错误: {str(e)}\")\n",
    "        raise\n",
    "\n",
    "\n",
    "\n",
    "\n",
    "save_dir = f'/home/chengxin/chengxin/Dataset_Sound/Chem/results/{model}/data'\n",
    "os.makedirs(save_dir, exist_ok=True)\n",
    "for file_path in tqdm(gen_file_paths):\n",
    "    file_name = file_path.split(\"/\")[-1]\n",
    "    file_id = '_'.join(file_name.split(\"_\")[1:-1])\n",
    "    sample_id = int(file_name.split(\"_\")[-1][:-4])\n",
    "\n",
    "    name = f\"{file_id}_sample{sample_id}\"\n",
    "    shutil.copy(file_path, f\"{save_dir}/{name}.wav\")\n",
    "\n",
    "    gt_video_path = f\"{meta_file_dir}/sentence_video_25fps/{file_id[8:]}.mp4\"  # Chem\n",
    "    shutil.copy(gt_video_path, f\"{save_dir}/{name}.mp4\")\n",
    "    replace_audio_in_video(gt_video_path, f\"{save_dir}/{name}.wav\", f\"{save_dir}/{name}.mp4\")\n"
   ]
  }
 ],
 "metadata": {
  "kernelspec": {
   "display_name": "vaflow",
   "language": "python",
   "name": "python3"
  },
  "language_info": {
   "codemirror_mode": {
    "name": "ipython",
    "version": 3
   },
   "file_extension": ".py",
   "mimetype": "text/x-python",
   "name": "python",
   "nbconvert_exporter": "python",
   "pygments_lexer": "ipython3",
   "version": "3.10.16"
  }
 },
 "nbformat": 4,
 "nbformat_minor": 5
}
