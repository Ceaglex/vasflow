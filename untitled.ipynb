{
 "cells": [
  {
   "cell_type": "code",
   "execution_count": null,
   "id": "caae1b11",
   "metadata": {},
   "outputs": [
    {
     "name": "stderr",
     "output_type": "stream",
     "text": [
      "  0%|          | 0/15285 [00:00<?, ?it/s]"
     ]
    },
    {
     "name": "stderr",
     "output_type": "stream",
     "text": [
      "100%|██████████| 15285/15285 [01:32<00:00, 165.92it/s]\n"
     ]
    },
    {
     "data": {
      "text/plain": [
       "15285"
      ]
     },
     "execution_count": 2,
     "metadata": {},
     "output_type": "execute_result"
    },
    {
     "ename": "",
     "evalue": "",
     "output_type": "error",
     "traceback": [
      "\u001b[1;31mThe Kernel crashed while executing code in the current cell or a previous cell. \n",
      "\u001b[1;31mPlease review the code in the cell(s) to identify a possible cause of the failure. \n",
      "\u001b[1;31mClick <a href='https://aka.ms/vscodeJupyterKernelCrash'>here</a> for more info. \n",
      "\u001b[1;31mView Jupyter <a href='command:jupyter.viewOutput'>log</a> for further details."
     ]
    }
   ],
   "source": [
    "import shutil\n",
    "from tqdm import tqdm\n",
    "from glob import glob\n",
    "\n",
    "model = 'vaflow'\n",
    "files = glob(\"/home/chengxin/chengxin/vaflow/log/2025_04_19-19_*/predict/video/*_00.wav\")\n",
    "\n",
    "for audio_file in tqdm(files):\n",
    "    name = audio_file.split('/')[-1][:-7]\n",
    "    target_file = f\"/home/chengxin/chengxin/Dataset_Sound/VGGSound/generated_audios/{model}/10/{name}.wav\"\n",
    "    shutil.copy(audio_file, target_file)\n",
    "\n",
    "len(files)"
   ]
  },
  {
   "cell_type": "code",
   "execution_count": 9,
   "id": "bba9a404",
   "metadata": {},
   "outputs": [
    {
     "name": "stderr",
     "output_type": "stream",
     "text": [
      "  0%|          | 0/15297 [00:00<?, ?it/s]"
     ]
    },
    {
     "name": "stderr",
     "output_type": "stream",
     "text": [
      "100%|██████████| 15297/15297 [00:05<00:00, 2961.47it/s]\n"
     ]
    },
    {
     "data": {
      "text/plain": [
       "15297"
      ]
     },
     "execution_count": 9,
     "metadata": {},
     "output_type": "execute_result"
    }
   ],
   "source": [
    "import shutil\n",
    "from tqdm import tqdm\n",
    "from glob import glob\n",
    "import os\n",
    "\n",
    "model = 'vaflow'\n",
    "files = glob(\"/home/chengxin/chengxin/vaflow/log/2025_04_19-13_*/predict/video/*.npy\")\n",
    "\n",
    "for audio_file in tqdm(files):\n",
    "    name = audio_file.split('/')[-1]\n",
    "    target_file = f\"/home/chengxin/chengxin/Dataset_feature/vggsound_audiosetsound_clip_b16/{name}\"\n",
    "    # if os.path.exists(target_file):\n",
    "    #     print(f\"File {target_file} already exists. Skipping.\")\n",
    "    #     continue\n",
    "    shutil.copy(audio_file, target_file)\n",
    "\n",
    "len(files)"
   ]
  },
  {
   "cell_type": "code",
   "execution_count": null,
   "id": "05a80f3f",
   "metadata": {},
   "outputs": [],
   "source": []
  },
  {
   "cell_type": "code",
   "execution_count": 7,
   "id": "222c4bb8",
   "metadata": {},
   "outputs": [
    {
     "name": "stderr",
     "output_type": "stream",
     "text": [
      "/home/chengxin/chengxin/anaconda3/envs/vaflow/lib/python3.10/site-packages/torch/nn/utils/weight_norm.py:143: FutureWarning: `torch.nn.utils.weight_norm` is deprecated in favor of `torch.nn.utils.parametrizations.weight_norm`.\n",
      "  WeightNorm.apply(module, name, dim)\n"
     ]
    }
   ],
   "source": [
    "from diffusers.models import AutoencoderOobleck\n",
    "import torchaudio\n",
    "import torch\n",
    "\n",
    "audio_path = \"/home/chengxin/chengxin/Dataset_Sound/GRID/speakers/s02/s02_bbaz6a.wav\"\n",
    "audio_codec = AutoencoderOobleck.from_pretrained('/home/chengxin/chengxin/vaflow/model/stable_audio/ckpt/vae')\n",
    "\n",
    "waveform, sr = torchaudio.load(audio_path)\n",
    "waveform = torch.concat([waveform.unsqueeze(0), waveform.unsqueeze(0)], dim=1)\n",
    "audio_latent = audio_codec.encode(waveform).latent_dist    # [bs, 64, 215]\n",
    "audio_latent = audio_latent.sample()                        # [bs, 64, 215]"
   ]
  },
  {
   "cell_type": "code",
   "execution_count": 8,
   "id": "edc53b72",
   "metadata": {},
   "outputs": [],
   "source": [
    "import os\n",
    "\n",
    "name = audio_path.split(\"/\")[-1][:-4]\n",
    "gen_audio = audio_codec.decode(audio_latent).sample\n",
    "gen_audio = gen_audio.cpu()\n",
    "for i, audio in enumerate(gen_audio):\n",
    "    torchaudio.save(os.path.join('/home/chengxin/chengxin/vaflow/log', f\"{name}.wav\"), audio, sr) \n"
   ]
  },
  {
   "cell_type": "code",
   "execution_count": null,
   "id": "02663422",
   "metadata": {},
   "outputs": [],
   "source": []
  },
  {
   "cell_type": "code",
   "execution_count": 1,
   "id": "935b9a01",
   "metadata": {},
   "outputs": [
    {
     "name": "stderr",
     "output_type": "stream",
     "text": [
      "100%|██████████| 1000/1000 [00:00<00:00, 3908.83it/s]\n",
      "100%|██████████| 1000/1000 [00:00<00:00, 4480.85it/s]\n",
      "100%|██████████| 1000/1000 [00:00<00:00, 4415.87it/s]\n",
      "100%|██████████| 1000/1000 [00:00<00:00, 4672.44it/s]\n",
      "100%|██████████| 1000/1000 [00:00<00:00, 3687.12it/s]\n",
      "100%|██████████| 1000/1000 [00:00<00:00, 4852.81it/s]\n",
      "100%|██████████| 1000/1000 [00:00<00:00, 4171.93it/s]\n",
      "100%|██████████| 1000/1000 [00:00<00:00, 3745.35it/s]\n",
      "100%|██████████| 1000/1000 [00:00<00:00, 2739.08it/s]\n",
      "100%|██████████| 1000/1000 [00:00<00:00, 3611.53it/s]\n",
      "100%|██████████| 1000/1000 [00:00<00:00, 3288.16it/s]\n",
      "100%|██████████| 1000/1000 [00:00<00:00, 173777.93it/s]\n",
      "100%|██████████| 1000/1000 [00:00<00:00, 172257.75it/s]\n",
      "100%|██████████| 1000/1000 [00:00<00:00, 178762.48it/s]\n",
      "100%|██████████| 1000/1000 [01:25<00:00, 11.72it/s] \n",
      "100%|██████████| 1000/1000 [05:08<00:00,  3.24it/s]\n",
      "100%|██████████| 1000/1000 [04:14<00:00,  3.93it/s]\n",
      "100%|██████████| 1000/1000 [04:13<00:00,  3.94it/s]\n",
      "100%|██████████| 1000/1000 [04:14<00:00,  3.92it/s]\n",
      "100%|██████████| 1000/1000 [04:10<00:00,  4.00it/s]\n",
      "100%|██████████| 1000/1000 [04:11<00:00,  3.97it/s]\n",
      "100%|██████████| 1000/1000 [04:18<00:00,  3.87it/s]\n",
      "100%|██████████| 1000/1000 [04:21<00:00,  3.82it/s]\n",
      "100%|██████████| 1000/1000 [04:17<00:00,  3.88it/s]\n",
      "100%|██████████| 1000/1000 [04:14<00:00,  3.92it/s]\n",
      "100%|██████████| 1000/1000 [04:15<00:00,  3.91it/s]\n",
      "100%|██████████| 1000/1000 [04:04<00:00,  4.09it/s]\n",
      "100%|██████████| 1000/1000 [03:50<00:00,  4.34it/s]\n",
      "100%|██████████| 1000/1000 [03:46<00:00,  4.42it/s]\n",
      "100%|██████████| 1000/1000 [03:49<00:00,  4.35it/s]\n",
      "100%|██████████| 1000/1000 [04:02<00:00,  4.12it/s]\n",
      "100%|██████████| 1000/1000 [04:00<00:00,  4.16it/s]\n",
      "100%|██████████| 1000/1000 [04:10<00:00,  3.99it/s]\n"
     ]
    }
   ],
   "source": [
    "import os\n",
    "import subprocess\n",
    "from tqdm import tqdm\n",
    "\n",
    "def convert_mpg_to_mp4(input_root, output_root):\n",
    "    # 确保输出根文件夹存在\n",
    "    if not os.path.exists(output_root):\n",
    "        os.makedirs(output_root)\n",
    "    \n",
    "    # 遍历输入根文件夹中的所有子文件夹（例如 s01, s02 等）\n",
    "    for subfolder in sorted(os.listdir(input_root)):\n",
    "        input_subfolder_path = os.path.join(input_root, subfolder)\n",
    "        \n",
    "        # 只处理文件夹（跳过文件）\n",
    "        if not os.path.isdir(input_subfolder_path):\n",
    "            continue\n",
    "        \n",
    "        # 创建对应的输出子文件夹（例如 videos_25fps_mp4/s01）\n",
    "        output_subfolder_path = os.path.join(output_root, subfolder)\n",
    "        if not os.path.exists(output_subfolder_path):\n",
    "            os.makedirs(output_subfolder_path)\n",
    "        \n",
    "        # 获取子文件夹中的所有 MPG 文件\n",
    "        files = os.listdir(input_subfolder_path)\n",
    "        mpg_files = [f for f in files if f.lower().endswith('.mpg')]\n",
    "        \n",
    "        if not mpg_files:\n",
    "            print(f\"子文件夹 {subfolder} 中未找到任何 MPG 文件！\")\n",
    "            continue\n",
    "        \n",
    "        # 按文件名排序\n",
    "        mpg_files.sort()\n",
    "        \n",
    "        # 逐个处理 MPG 文件\n",
    "        for mpg_file in tqdm(mpg_files):\n",
    "            input_path = os.path.join(input_subfolder_path, mpg_file)\n",
    "            output_file = os.path.splitext(mpg_file)[0] + '.mp4'\n",
    "            output_path = os.path.join(output_subfolder_path, output_file)\n",
    "            \n",
    "            if os.path.exists(output_path):\n",
    "                # print(f\"文件 {output_path} 已存在，跳过转换。\")\n",
    "                continue\n",
    "            # print(f\"正在转换: {input_path} -> {output_path}\")\n",
    "            \n",
    "            try:\n",
    "                # 使用 ffmpeg 命令进行转换\n",
    "                cmd = [\n",
    "                    'ffmpeg', '-i', input_path,  # 输入文件\n",
    "                    '-c:v', 'libx264',          # 视频编码为 H.264\n",
    "                    '-c:a', 'aac',              # 音频编码为 AAC\n",
    "                    '-y',                       # 覆盖输出文件（如果已存在）\n",
    "                    output_path                 # 输出文件\n",
    "                ]\n",
    "                subprocess.run(cmd, check=True, stdout=subprocess.PIPE, stderr=subprocess.PIPE)\n",
    "                # print(f\"转换完成: {output_path}\")\n",
    "            except subprocess.CalledProcessError as e:\n",
    "                print(f\"转换失败: {mpg_file}, 错误: {e.stderr.decode()}\")\n",
    "\n",
    "\n",
    "    \n",
    "\n",
    "# 指定输入和输出文件夹\n",
    "input_folder = \"/home/chengxin/chengxin/Dataset_Sound/GRID/videos_25fps_mpg\"  # 你的 MPG 文件所在文件夹\n",
    "output_folder = \"/home/chengxin/chengxin/Dataset_Sound/GRID/videos_25fps_mp4\"  # 输出 MP4 文件的文件夹\n",
    "    \n",
    "convert_mpg_to_mp4(input_folder, output_folder)"
   ]
  },
  {
   "cell_type": "code",
   "execution_count": null,
   "id": "031fc8ce",
   "metadata": {},
   "outputs": [],
   "source": []
  },
  {
   "cell_type": "code",
   "execution_count": 1,
   "id": "7146f8cb",
   "metadata": {},
   "outputs": [
    {
     "data": {
      "text/plain": [
       "'5949005587791253679_06781_00103.npy'"
      ]
     },
     "execution_count": 1,
     "metadata": {},
     "output_type": "execute_result"
    }
   ],
   "source": [
    "import os\n",
    "\n",
    "os.listdir('/home/chengxin/chengxin/Dataset_feature/chem_grid_lrs2_clip_b16')[0]"
   ]
  },
  {
   "cell_type": "code",
   "execution_count": null,
   "id": "d16d3abc",
   "metadata": {},
   "outputs": [
    {
     "name": "stdout",
     "output_type": "stream",
     "text": [
      "(100, 768)\n"
     ]
    },
    {
     "data": {
      "text/plain": [
       "array([[-0.32416   , -0.05754628,  0.0459597 , ...,  0.13397229,\n",
       "         0.55301815,  0.0870481 ],\n",
       "       [-0.32416   , -0.05754628,  0.0459597 , ...,  0.13397229,\n",
       "         0.55301815,  0.0870481 ],\n",
       "       [-0.32416   , -0.05754628,  0.0459597 , ...,  0.13397229,\n",
       "         0.55301815,  0.0870481 ],\n",
       "       ...,\n",
       "       [-0.32416   , -0.05754628,  0.0459597 , ...,  0.13397229,\n",
       "         0.55301815,  0.0870481 ],\n",
       "       [-0.32416   , -0.05754628,  0.0459597 , ...,  0.13397229,\n",
       "         0.55301815,  0.0870481 ],\n",
       "       [-0.32416   , -0.05754628,  0.0459597 , ...,  0.13397229,\n",
       "         0.55301815,  0.0870481 ]], dtype=float32)"
      ]
     },
     "execution_count": 27,
     "metadata": {},
     "output_type": "execute_result"
    }
   ],
   "source": [
    "import numpy as np\n",
    "\n",
    "data = np.load('/home/chengxin/chengxin/Dataset_feature/chem_grid_lrs2_clip_b16/5949005587791253679_06781_00103.npy')\n",
    "data = np.load('/home/chengxin/chengxin/Dataset_feature/vggsound_audiosetsound_clip_b16/no_video.npy')\n",
    "print(data.shape)\n",
    "data"
   ]
  },
  {
   "cell_type": "code",
   "execution_count": 26,
   "id": "ebf073e1",
   "metadata": {},
   "outputs": [
    {
     "name": "stdout",
     "output_type": "stream",
     "text": [
      "(100, 768)\n"
     ]
    }
   ],
   "source": [
    "data_ = np.vstack([data[-1] for i in range(len(data))])\n",
    "print(data_.shape)\n",
    "np.save('/home/chengxin/chengxin/Dataset_feature/vggsound_audiosetsound_clip_b16/no_video.npy', data_)"
   ]
  }
 ],
 "metadata": {
  "kernelspec": {
   "display_name": "vaflow",
   "language": "python",
   "name": "python3"
  },
  "language_info": {
   "codemirror_mode": {
    "name": "ipython",
    "version": 3
   },
   "file_extension": ".py",
   "mimetype": "text/x-python",
   "name": "python",
   "nbconvert_exporter": "python",
   "pygments_lexer": "ipython3",
   "version": "3.10.16"
  }
 },
 "nbformat": 4,
 "nbformat_minor": 5
}
