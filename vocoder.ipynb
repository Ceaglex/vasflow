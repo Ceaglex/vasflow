{
 "cells": [
  {
   "cell_type": "code",
   "execution_count": 2,
   "id": "2bc3c9f5",
   "metadata": {},
   "outputs": [
    {
     "data": {
      "text/plain": [
       "4711"
      ]
     },
     "execution_count": 2,
     "metadata": {},
     "output_type": "execute_result"
    }
   ],
   "source": [
    "from dataset.video import VideoDataset, collate_fn_for_text\n",
    "from types import SimpleNamespace\n",
    "\n",
    "\n",
    "audio_process = {\n",
    "   \"duration\":10.0,\n",
    "   \"sample_rate\":16000,\n",
    "   \"channel_num\":1\n",
    "}\n",
    "audio_process = SimpleNamespace(**audio_process)\n",
    "\n",
    "video_process = {\n",
    "   \"duration\":10.0,\n",
    "   \"resize_input_size\":[224, 224],\n",
    "   \"target_sampling_rate\":10,\n",
    "   \"raw_duration_min_threshold\":0.2,\n",
    "}\n",
    "video_process = SimpleNamespace(**video_process)\n",
    "\n",
    "dataset = VideoDataset(\n",
    "   meta_dir=\"/home/chengxin/chengxin/Dataset_Sound/MetaData/vaflow2_meta/meta\",\n",
    "   dilimeter=\"|\",\n",
    "   split=\"test_25_ref_Chem_LRS2_GRID_LJSpeech\",\n",
    "   load_mode_item=\"video_feat_ref_text_with_waveform\",\n",
    "   verbose=False,\n",
    "   audio_process_config=audio_process,\n",
    "   video_process_config=video_process\n",
    ")\n",
    "len(dataset)\n"
   ]
  },
  {
   "cell_type": "code",
   "execution_count": 3,
   "id": "f6a99f07",
   "metadata": {},
   "outputs": [],
   "source": [
    "from torch.utils.data import DataLoader\n",
    "\n",
    "dataloader = DataLoader(\n",
    "    dataset,\n",
    "    batch_size=16,\n",
    "    num_workers=0,\n",
    "    prefetch_factor=None,\n",
    "    collate_fn=collate_fn_for_text,\n",
    "    persistent_workers=False\n",
    ")"
   ]
  },
  {
   "cell_type": "code",
   "execution_count": 4,
   "id": "a28c7dc2",
   "metadata": {},
   "outputs": [
    {
     "name": "stderr",
     "output_type": "stream",
     "text": [
      "/home/chengxin/chengxin/anaconda3/envs/vaflow/lib/python3.10/site-packages/tqdm/auto.py:21: TqdmWarning: IProgress not found. Please update jupyter and ipywidgets. See https://ipywidgets.readthedocs.io/en/stable/user_install.html\n",
      "  from .autonotebook import tqdm as notebook_tqdm\n"
     ]
    }
   ],
   "source": [
    "from util.mel_filter import extract_batch_mel\n",
    "from transformers import SpeechT5HifiGan\n",
    "from diffusers.models import AutoencoderKL\n",
    "\n",
    "\n",
    "vae = AutoencoderKL.from_pretrained(\n",
    "    # From pretrained\n",
    "    \"/data-04/xihua/data/ckpt/audioldm2/huggingface/vae\",\n",
    "    local_files_only=True,\n",
    "    scaling_factor=1,\n",
    "    low_cpu_mem_usage=False, \n",
    "    ignore_mismatched_sizes=False,\n",
    "    use_safetensors=True,\n",
    ")\n",
    "vocoder = SpeechT5HifiGan.from_pretrained(\n",
    "    # From pretrained\n",
    "    \"/data-04/xihua/data/ckpt/audioldm2/huggingface/vocoder\",\n",
    "    local_files_only=True,\n",
    "    low_cpu_mem_usage=True, \n",
    "    ignore_mismatched_sizes=False,\n",
    "    use_safetensors=True,\n",
    ")\n"
   ]
  },
  {
   "cell_type": "code",
   "execution_count": null,
   "id": "4e32b0d9",
   "metadata": {},
   "outputs": [],
   "source": [
    "import torchaudio\n",
    "from tqdm import tqdm\n",
    "\n",
    "for batch in tqdm(dataloader):\n",
    "    audio_waveform = batch[\"audio_waveform\"]\n",
    "    audio_waveform, log_mel_spec = extract_batch_mel(audio_waveform.squeeze(1), cut_audio_duration = 10, sampling_rate = 16000, hop_length = 160, maximum_amplitude = 0.5,\n",
    "                                                        filter_length = 1024, n_mel = 64, mel_fmin = 0, mel_fmax = 8000, win_length = 1024)\n",
    "    log_mel_spec = log_mel_spec.unsqueeze(1)  # [bs, 1, target_mel_length (sr*duration/hop_length, 1000), n_mel (64)]\n",
    "    \n",
    "    audio_latent = vae.encode(log_mel_spec.to(vae.encoder.conv_in.weight.dtype)).latent_dist    #  [bs, 8, target_mel_length/4(250), n_mel/4(16)]\n",
    "    audio_latent = audio_latent.sample()\n",
    "\n",
    "    mel_spectrogram = vae.decode(audio_latent).sample                             # [bs, 1, target_mel_length(latent_length*4), 64(16*4)]\n",
    "    gen_audio = vocoder(mel_spectrogram.squeeze(1))                               # [bs, duration*sr+...]\n",
    "\n",
    "    for i in range(gen_audio.shape[0]):\n",
    "        video_id = batch['video_path'][i].split(\"/\")[-1]\n",
    "        save_path = f\"/home/chengxin/chengxin/vasflow/log/vae_vocoder/{video_id}\"\n",
    "        torchaudio.save(save_path, gen_audio[i:i+1], sample_rate=16000)\n",
    "        print(video_id)\n",
    "    "
   ]
  },
  {
   "cell_type": "code",
   "execution_count": null,
   "id": "26578d8f",
   "metadata": {},
   "outputs": [],
   "source": []
  }
 ],
 "metadata": {
  "kernelspec": {
   "display_name": "vaflow",
   "language": "python",
   "name": "python3"
  },
  "language_info": {
   "codemirror_mode": {
    "name": "ipython",
    "version": 3
   },
   "file_extension": ".py",
   "mimetype": "text/x-python",
   "name": "python",
   "nbconvert_exporter": "python",
   "pygments_lexer": "ipython3",
   "version": "3.10.16"
  }
 },
 "nbformat": 4,
 "nbformat_minor": 5
}
